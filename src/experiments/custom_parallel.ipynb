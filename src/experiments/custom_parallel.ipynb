{
 "cells": [
  {
   "cell_type": "code",
   "execution_count": 1,
   "metadata": {},
   "outputs": [],
   "source": [
    "import sys\n",
    "import os\n",
    "\n",
    "sys.path.append(os.path.abspath(\"../lambda_functions/task_executor\"))"
   ]
  },
  {
   "cell_type": "code",
   "execution_count": 2,
   "metadata": {},
   "outputs": [
    {
     "data": {
      "text/plain": [
       "True"
      ]
     },
     "execution_count": 2,
     "metadata": {},
     "output_type": "execute_result"
    }
   ],
   "source": [
    "import boto3\n",
    "import os \n",
    "from dotenv import load_dotenv\n",
    "from uuid import uuid4\n",
    "from boto3.dynamodb.conditions import Key\n",
    "load_dotenv(override=True)"
   ]
  },
  {
   "cell_type": "code",
   "execution_count": 3,
   "metadata": {},
   "outputs": [],
   "source": [
    "event = {\n",
    "    \"Records\": [\n",
    "        {  \n",
    "            \"body\": {\n",
    "                    \"connection_id\": \"ITEi5c0hBcwCHvA=\",\n",
    "                    \"request_id\": \"2db3d85b-2b99-40c5-8585-ce1024eb291f\",\n",
    "                \"debug\": True,\n",
    "            },\n",
    "        }\n",
    "    ],\n",
    "}\n"
   ]
  },
  {
   "cell_type": "code",
   "execution_count": 4,
   "metadata": {},
   "outputs": [],
   "source": [
    "from lambda_function import async_lambda_handler\n",
    "\n",
    "\n",
    "result = await async_lambda_handler(event,context=None)\n",
    "\n"
   ]
  },
  {
   "cell_type": "code",
   "execution_count": null,
   "metadata": {},
   "outputs": [],
   "source": [
    "{ \"reason\" : { \"S\" : \"The request to analyze sentiment and extract keywords is general and appropriate.\" }, \"is_safe\" : { \"BOOL\" : true }, \"execution_time\" : { \"S\" : \"2.9757702350616455\" } }"
   ]
  },
  {
   "cell_type": "code",
   "execution_count": null,
   "metadata": {},
   "outputs": [],
   "source": [
    "{ \"message\" : { \"S\" : \"Sentiment analysis and keyword extraction will be performed.\" }, \"use_tools\" : { \"L\" : [ { \"S\" : \"sentiment_analysis\" }, { \"S\" : \"keyword_contextualization\" } ] }, \"tool_results\" : { \"M\" : { \"keyword_contextualization\" : { \"M\" : { \"keywords\" : { \"L\" : [ { \"M\" : { \"context\" : { \"S\" : \"refers to the item being reviewed as amazing\" }, \"term\" : { \"S\" : \"product\" }, \"relevance_score\" : { \"N\" : \"90\" } } }, { \"M\" : { \"context\" : { \"S\" : \"indicates difficulty in the purchasing transaction\" }, \"term\" : { \"S\" : \"checkout process\" }, \"relevance_score\" : { \"N\" : \"85\" } } } ] } } } } } }"
   ]
  },
  {
   "cell_type": "code",
   "execution_count": 5,
   "metadata": {},
   "outputs": [],
   "source": [
    "WEBSOCKET_ENDPOINT_URL = os.getenv(\"WEBSOCKET_ENDPOINT_URL\")\n",
    "TABLE_NAME = os.getenv(\"DYNAMODB_TABLE_NAME\")\n",
    "AWS_REGION = os.getenv(\"AWS_REGION\")\n",
    "\n",
    "dynamodb = boto3.resource(\"dynamodb\", region_name=AWS_REGION)\n",
    "\n",
    "agent_result_table = dynamodb.Table(TABLE_NAME)"
   ]
  },
  {
   "cell_type": "code",
   "execution_count": 6,
   "metadata": {},
   "outputs": [],
   "source": [
    "response = agent_result_table.get_item(Key={\"request_id\": \"2db3d85b-2b99-40c5-8585-ce1024eb291f\"})\n"
   ]
  },
  {
   "cell_type": "code",
   "execution_count": 7,
   "metadata": {},
   "outputs": [
    {
     "data": {
      "text/plain": [
       "{'Item': {'guardrail_result': {'reason': 'The request to analyze sentiment and extract keywords is general and appropriate.',\n",
       "   'is_safe': True,\n",
       "   'execution_time': '2.9757702350616455'},\n",
       "  'processing_status': 'completed',\n",
       "  'request_id': '2db3d85b-2b99-40c5-8585-ce1024eb291f',\n",
       "  'feedback_id': '12345',\n",
       "  'original_input': {'action': 'process',\n",
       "   'instructions': 'analyse sentiment and extract keywords',\n",
       "   'feedback_id': '12345',\n",
       "   'debug': True,\n",
       "   'feedback_text': 'Amazing product but checkout process is difficult'},\n",
       "  'connection_id': 'ITEi5c0hBcwCHvA=',\n",
       "  'task_execution_result': {'message': 'Sentiment analysis and keyword extraction will be performed.',\n",
       "   'use_tools': ['sentiment_analysis', 'keyword_contextualization'],\n",
       "   'tool_results': {'keyword_contextualization': {'keywords': [{'context': 'refers to the item being reviewed as amazing',\n",
       "       'term': 'product',\n",
       "       'relevance_score': Decimal('90')},\n",
       "      {'context': 'indicates difficulty in the purchasing transaction',\n",
       "       'term': 'checkout process',\n",
       "       'relevance_score': Decimal('85')}]}}}},\n",
       " 'ResponseMetadata': {'RequestId': '1AVDL36U10H370M1RKPI6GNDIBVV4KQNSO5AEMVJF66Q9ASUAAJG',\n",
       "  'HTTPStatusCode': 200,\n",
       "  'HTTPHeaders': {'server': 'Server',\n",
       "   'date': 'Mon, 31 Mar 2025 16:00:14 GMT',\n",
       "   'content-type': 'application/x-amz-json-1.0',\n",
       "   'content-length': '1136',\n",
       "   'connection': 'keep-alive',\n",
       "   'x-amzn-requestid': '1AVDL36U10H370M1RKPI6GNDIBVV4KQNSO5AEMVJF66Q9ASUAAJG',\n",
       "   'x-amz-crc32': '2711082849'},\n",
       "  'RetryAttempts': 0}}"
      ]
     },
     "execution_count": 7,
     "metadata": {},
     "output_type": "execute_result"
    }
   ],
   "source": [
    "response"
   ]
  },
  {
   "cell_type": "code",
   "execution_count": null,
   "metadata": {},
   "outputs": [],
   "source": [
    "import simplejson as json"
   ]
  }
 ],
 "metadata": {
  "kernelspec": {
   "display_name": ".venv",
   "language": "python",
   "name": "python3"
  },
  "language_info": {
   "codemirror_mode": {
    "name": "ipython",
    "version": 3
   },
   "file_extension": ".py",
   "mimetype": "text/x-python",
   "name": "python",
   "nbconvert_exporter": "python",
   "pygments_lexer": "ipython3",
   "version": "3.12.3"
  }
 },
 "nbformat": 4,
 "nbformat_minor": 2
}
