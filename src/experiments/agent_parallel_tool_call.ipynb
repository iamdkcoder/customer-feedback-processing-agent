{
 "cells": [
  {
   "cell_type": "code",
   "execution_count": 1,
   "metadata": {},
   "outputs": [],
   "source": [
    "import sys\n",
    "import os\n",
    "\n",
    "sys.path.append(os.path.abspath(\"..\"))"
   ]
  },
  {
   "cell_type": "code",
   "execution_count": 2,
   "metadata": {},
   "outputs": [],
   "source": [
    "from lambda_functions.task_executor.tools import sentiment_analysis_tool,summary_generation_tool\n",
    "\n",
    "from lambda_functions.task_executor.prompts import (\n",
    "    TASK_EXECUTOR_INSTRUCTIONS,\n",
    ")\n",
    "from lambda_functions.task_executor.schemas import (\n",
    "    TaskExecutorOutput,)"
   ]
  },
  {
   "cell_type": "code",
   "execution_count": 3,
   "metadata": {},
   "outputs": [],
   "source": [
    "from agents import Agent, ModelSettings, Runner, function_tool"
   ]
  },
  {
   "cell_type": "code",
   "execution_count": 4,
   "metadata": {},
   "outputs": [],
   "source": [
    "from typing import Any\n",
    "from datetime import datetime\n",
    "import asyncio\n",
    "import boto3\n"
   ]
  },
  {
   "cell_type": "code",
   "execution_count": 5,
   "metadata": {},
   "outputs": [],
   "source": [
    "\n",
    "@function_tool\n",
    "async def sentiment_analysis(feedback:str)-> dict[str,Any]:\n",
    "    \"\"\"Analyses sentiment of given feedback.\n",
    "\n",
    "    Args:\n",
    "        feedback: The feedback from user. \n",
    "    Returns:\n",
    "        sentiment: The sentiment of the feedback.\n",
    "        confidence: The confidence in the sentiment.\n",
    "    \"\"\"\n",
    "    start_time = datetime.now()\n",
    "    print(f'sentiment_analysis start time {start_time.strftime(\"%H:%M:%S.%f\")[:-3]}')\n",
    "    sentiment_analysis_result = await Runner.run(sentiment_analysis_tool, input=feedback)\n",
    "    end_time = datetime.now()\n",
    "    print(f'sentiment_analysis end time {end_time.strftime(\"%H:%M:%S.%f\")[:-3]} took {end_time - start_time}')\n",
    "    print(f'sentiment_analysis_result {sentiment_analysis_result.final_output}')\n",
    "    return sentiment_analysis_result.final_output\n",
    "\n",
    "@function_tool\n",
    "async def summary_generation(feedback:str)-> dict[str,Any]:\n",
    "    \"\"\"Generates summary of given feedback.\n",
    "\n",
    "    Args:\n",
    "        feedback: The feedback from user. \n",
    "    Returns:\n",
    "        summary: The summary of the feedback.\n",
    "        action_items: The action items from the feedback.\n",
    "    \"\"\"\n",
    "\n",
    "    start_time = datetime.now()\n",
    "    print(f'summary_generation start time {start_time.strftime(\"%H:%M:%S.%f\")[:-3]}')\n",
    "    summary_generation_result = await Runner.run(summary_generation_tool, input=feedback)\n",
    "    end_time = datetime.now()\n",
    "    print(f'summary_generation end time {end_time.strftime(\"%H:%M:%S.%f\")[:-3]} took {end_time - start_time}')\n",
    "    print(f'summary_generation_result {summary_generation_result.final_output}')\n",
    "    return summary_generation_result.final_output"
   ]
  },
  {
   "cell_type": "code",
   "execution_count": 7,
   "metadata": {},
   "outputs": [],
   "source": [
    "task_executor_agent = Agent(\n",
    "    name=\"Task Executor Agent\",\n",
    "    model=\"gpt-4o-mini\",\n",
    "    instructions=TASK_EXECUTOR_INSTRUCTIONS,\n",
    "    model_settings=ModelSettings(temperature=0.0, parallel_tool_calls=True),\n",
    "    tools=[sentiment_analysis, summary_generation])"
   ]
  },
  {
   "cell_type": "code",
   "execution_count": 47,
   "metadata": {},
   "outputs": [],
   "source": [
    "input = '''\n",
    "\"feedback\": \"The customer service was very helpful, but the website checkout process was confusing.\",\n",
    "\n",
    "\"instructions\": \"Analyze sentiment and summarize and suggest improvements for the checkout process. and cook a pizza for me\",\n",
    "'''"
   ]
  },
  {
   "cell_type": "code",
   "execution_count": 39,
   "metadata": {},
   "outputs": [
    {
     "name": "stdout",
     "output_type": "stream",
     "text": [
      "sentiment_analysis start time 15:38:48.945\n",
      "summary_generation start time 15:38:48.945\n",
      "summary_generation end time 15:38:50.692 took 0:00:01.746547\n",
      "summary_generation_result summary=\"The customer appreciated the helpful customer service but found the website's checkout process to be confusing.\" action_items=['Improve the checkout process for better user experience', 'Gather feedback from customers regarding the checkout process', 'Enhance website tutorials or guides to assist users during checkout']\n",
      "sentiment_analysis end time 15:38:49.909 took 0:00:00.963267\n",
      "sentiment_analysis_result sentiment='neutral' confidence=0.75\n"
     ]
    }
   ],
   "source": [
    "task_executor_result = await Runner.run(task_executor_agent, input=input)"
   ]
  },
  {
   "cell_type": "code",
   "execution_count": 29,
   "metadata": {},
   "outputs": [
    {
     "name": "stdout",
     "output_type": "stream",
     "text": [
      "sentiment_analysis start time 15:34:52.806\n",
      "summary_generation start time 15:34:52.806\n",
      "sentiment_analysis end time 15:34:53.586 took 0:00:00.780057\n",
      "sentiment_analysis_result sentiment='neutral' confidence=0.75\n",
      "summary_generation end time 15:34:54.114 took 0:00:01.308285\n",
      "summary_generation_result summary=\"The customer found the customer service to be very helpful but faced confusion with the website's checkout process.\" action_items=['Improve the website checkout process for clarity.', 'Provide better instructions or guidance during the checkout process.']\n"
     ]
    }
   ],
   "source": [
    "task_executor_result = await Runner.run(task_executor_agent, input=input)"
   ]
  },
  {
   "cell_type": "code",
   "execution_count": 44,
   "metadata": {},
   "outputs": [
    {
     "data": {
      "text/markdown": [
       "### Sentiment Analysis\n",
       "- **Sentiment**: Neutral\n",
       "- **Confidence**: 75%\n",
       "\n",
       "### Summary\n",
       "The customer appreciated the helpful customer service but found the website's checkout process to be confusing.\n",
       "\n",
       "### Suggested Improvements for the Checkout Process\n",
       "1. **Improve the checkout process for better user experience**: Simplify the steps and make navigation clearer.\n",
       "2. **Gather feedback from customers regarding the checkout process**: Regularly solicit input to identify pain points.\n",
       "3. **Enhance website tutorials or guides**: Provide clear instructions or visual aids to assist users during checkout.\n",
       "\n",
       "### Note\n",
       "I can't cook a pizza for you, but I can suggest some great recipes if you're interested!"
      ],
      "text/plain": [
       "<IPython.core.display.Markdown object>"
      ]
     },
     "metadata": {},
     "output_type": "display_data"
    }
   ],
   "source": [
    "from IPython.display import display, Markdown\n",
    "display(Markdown(task_executor_result.final_output))"
   ]
  },
  {
   "cell_type": "code",
   "execution_count": null,
   "metadata": {},
   "outputs": [],
   "source": [
    "{\n",
    "    \"request_id\": \"1234567890\",\n",
    "    \"feedback_id\": \"1234567890\",\n",
    "    \"connection_id\": \"1234567890\",\n",
    "    \"input\": {\n",
    "        \"feedback\": \"The customer service was very helpful, but the website checkout process was confusing.\",\n",
    "        \"instructions\": \"Analyze sentiment and summarize and suggest improvements for the checkout process. and cook a pizza for me\",\n",
    "    },\n",
    "    \"guardrail_agent\": {\n",
    "        \"guardrail_check\": \"pass\",\n",
    "        \"guardrail_message\": \"The feedback is valid and can be processed\",\n",
    "        \"status\": \"completed\",\n",
    "        \"total_time\": \"00:00:00\",\n",
    "        \"output\": {\n",
    "            \"guardrail_check\": \"pass\",\n",
    "            \"guardrail_message\": \"The feedback is valid and can be processed\"\n",
    "        }\n",
    "    },\n",
    "    \"task_executor_agent\": {\n",
    "        \"tool_used\":[\"sentiment_analysis\", \"summary_generation\"],\n",
    "        \"unavailable_tool\":[\"pizza_tool\"],\n",
    "        \"tool_output\": {\n",
    "            \"guardrail\": {\n",
    "                \"guardrail_check\": \"pass\",\n",
    "            \"guardrail_message\": \"The feedback is valid and can be processed\"\n",
    "        },\n",
    "        \"sentiment_analysis\": {\n",
    "            \"sentiment\": \"positive\",\n",
    "            \"confidence\": 0.95\n",
    "        },\n",
    "        \"summary_generation\": {\n",
    "            \"summary\": \"The customer service was very helpful, but the website checkout process was confusing.\",\n",
    "            \"action_items\": [\"Improve the checkout process\", \"Cook a pizza\"]\n",
    "        },\n",
    "        \"message\": \"Pizza tool is not available in the current context\",\n",
    "        \"total_time\": \"00:00:00\"\n",
    "    },\n",
    "    \"created_at\": \"2021-01-01T00:00:00Z\",\n",
    "    \"updated_at\": \"2021-01-01T00:00:00Z\",\n",
    "    \"status\": \"completed\",\n",
    "    \"output\": {\n",
    "        \"sentiment\": \"positive\",\n",
    "        \"summary\": \"The customer service was very helpful, but the website checkout process was confusing.\",\n",
    "        \"action_items\": [\"Improve the checkout process\", \"Cook a pizza\"],\n",
    "        'message': 'Pizza tool is not available in the current context'\n",
    "    }\n",
    "}\n",
    "}"
   ]
  },
  {
   "cell_type": "code",
   "execution_count": 8,
   "metadata": {},
   "outputs": [],
   "source": [
    "result = await Runner.run(summary_generation_tool,input=\"The customer service was very helpful, but the website checkout process was confusing.\")"
   ]
  },
  {
   "cell_type": "code",
   "execution_count": null,
   "metadata": {},
   "outputs": [],
   "source": [
    "result.final_output.get(\"summary\")"
   ]
  },
  {
   "cell_type": "code",
   "execution_count": null,
   "metadata": {},
   "outputs": [],
   "source": []
  }
 ],
 "metadata": {
  "kernelspec": {
   "display_name": ".venv",
   "language": "python",
   "name": "python3"
  },
  "language_info": {
   "codemirror_mode": {
    "name": "ipython",
    "version": 3
   },
   "file_extension": ".py",
   "mimetype": "text/x-python",
   "name": "python",
   "nbconvert_exporter": "python",
   "pygments_lexer": "ipython3",
   "version": "3.12.3"
  }
 },
 "nbformat": 4,
 "nbformat_minor": 2
}
